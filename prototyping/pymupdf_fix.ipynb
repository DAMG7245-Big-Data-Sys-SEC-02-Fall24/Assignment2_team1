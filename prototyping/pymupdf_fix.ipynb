{
 "cells": [
  {
   "cell_type": "code",
   "execution_count": 1,
   "metadata": {},
   "outputs": [
    {
     "name": "stdout",
     "output_type": "stream",
     "text": [
      "Collecting pymupdf\n",
      "  Downloading PyMuPDF-1.24.11-cp38-abi3-macosx_11_0_arm64.whl.metadata (3.4 kB)\n",
      "Downloading PyMuPDF-1.24.11-cp38-abi3-macosx_11_0_arm64.whl (18.2 MB)\n",
      "\u001b[2K   \u001b[38;2;114;156;31m━━━━━━━━━━━━━━━━━━━━━━━━━━━━━━━━━━━━━━━━\u001b[0m \u001b[32m18.2/18.2 MB\u001b[0m \u001b[31m37.5 MB/s\u001b[0m eta \u001b[36m0:00:00\u001b[0m MB/s\u001b[0m eta \u001b[36m0:00:01\u001b[0m01\u001b[0m\n",
      "\u001b[?25hInstalling collected packages: pymupdf\n",
      "Successfully installed pymupdf-1.24.11\n",
      "Note: you may need to restart the kernel to use updated packages.\n"
     ]
    }
   ],
   "source": [
    "pip install --upgrade pymupdf"
   ]
  },
  {
   "cell_type": "code",
   "execution_count": 3,
   "metadata": {},
   "outputs": [
    {
     "name": "stdout",
     "output_type": "stream",
     "text": [
      "Collecting pymongo\n",
      "  Downloading pymongo-4.10.1-cp310-cp310-macosx_11_0_arm64.whl.metadata (22 kB)\n",
      "Requirement already satisfied: dnspython<3.0.0,>=1.16.0 in /opt/homebrew/Caskroom/miniforge/base/envs/bigdata/lib/python3.10/site-packages (from pymongo) (2.6.1)\n",
      "Downloading pymongo-4.10.1-cp310-cp310-macosx_11_0_arm64.whl (835 kB)\n",
      "\u001b[2K   \u001b[38;2;114;156;31m━━━━━━━━━━━━━━━━━━━━━━━━━━━━━━━━━━━━━━━━\u001b[0m \u001b[32m835.7/835.7 kB\u001b[0m \u001b[31m13.7 MB/s\u001b[0m eta \u001b[36m0:00:00\u001b[0m\n",
      "\u001b[?25hInstalling collected packages: pymongo\n",
      "Successfully installed pymongo-4.10.1\n",
      "Note: you may need to restart the kernel to use updated packages.\n"
     ]
    }
   ],
   "source": [
    "pip install pymongo"
   ]
  },
  {
   "cell_type": "code",
   "execution_count": null,
   "metadata": {},
   "outputs": [],
   "source": [
    "import os\n",
    "import json\n",
    "import pymupdf\n",
    "import csv\n",
    "from pymongo import MongoClient\n",
    "from pymongo.errors import ConnectionFailure\n",
    "from dotenv import load_dotenv\n",
    "\n",
    "# Load environment variables\n",
    "load_dotenv()\n",
    "\n",
    "# MongoDB URI\n",
    "mongo_uri = os.getenv(\"MONGO_URI\")\n",
    "\n",
    "def connect_mongo():\n",
    "    try:\n",
    "        client = MongoClient(mongo_uri)\n",
    "        client.admin.command('ping')\n",
    "        print(\"MongoDB connection successful.\")\n",
    "        return client\n",
    "    except ConnectionFailure as e:\n",
    "        print(f\"Could not connect to MongoDB: {e}\")\n",
    "        return None"
   ]
  },
  {
   "cell_type": "code",
   "execution_count": null,
   "metadata": {},
   "outputs": [],
   "source": [
    "\n",
    "def extract_tables(page):\n",
    "    tables = []\n",
    "    for table in page.find_tables():\n",
    "        tables.append(table.extract())\n",
    "    return tables\n",
    "\n",
    "def save_table(table, filename):\n",
    "    with open(filename, mode='w', newline='', encoding='utf-8') as file:\n",
    "        writer = csv.writer(file)\n",
    "        writer.writerows(table)"
   ]
  },
  {
   "cell_type": "code",
   "execution_count": 1,
   "metadata": {},
   "outputs": [
    {
     "name": "stdout",
     "output_type": "stream",
     "text": [
      "MongoDB connection successful.\n",
      "Processing e9a2c537-8232-4c3f-85b0-b52de6bcba99.pdf...\n",
      "Processing 32f386b9-73ee-4455-b412-ddad508aa979.pdf...\n",
      "Processing 634fca59-03b2-4cdf-9ce4-0205df22f256.pdf...\n",
      "Processing Job Listing.pdf...\n",
      "Processing 8f697523-6988-4c4f-8d72-760a45681f68.pdf...\n",
      "Processing c4456885-2f03-436f-8fe9-0b4ca6822cdb.pdf...\n",
      "Processing d50b8ecb-a8aa-4696-ad84-403ef15e2c8b.pdf...\n",
      "Processing 021a5339-744f-42b7-bd9b-9368b3efda7a.pdf...\n",
      "Processing 680d7d77-c0c7-49c8-88fd-f8ec623645e9.pdf...\n",
      "Processing b3654e47-4307-442c-a09c-945b33b913c6.pdf...\n",
      "Processing 67e8878b-5cef-4375-804e-e6291fdbe78a.pdf...\n",
      "Processing 4044eab7-1282-42bd-a559-3bf3a4d5858e.pdf...\n",
      "Processing 7c215d46-91c7-424e-9f22-37d43ab73ea6.pdf...\n",
      "Processing 366e2f2b-8632-4ef2-81eb-bc3877489217.pdf...\n",
      "Processing ca0a4c14-4b97-43e7-8923-539d61050ae3.pdf...\n"
     ]
    }
   ],
   "source": [
    "\n",
    "\n",
    "\n",
    "def extract_data_from_pdf(pdf_path, output_folder, mongo_collection):\n",
    "    pdf_name = os.path.splitext(os.path.basename(pdf_path))[0]\n",
    "    pdf_output_folder = os.path.join(output_folder, pdf_name)\n",
    "    os.makedirs(pdf_output_folder, exist_ok=True)\n",
    "\n",
    "    images_folder = os.path.join(pdf_output_folder, \"extracted_images\")\n",
    "    os.makedirs(images_folder, exist_ok=True)\n",
    "\n",
    "    doc = pymupdf.open(pdf_path)\n",
    "    all_pages_data = []\n",
    "\n",
    "    for page_num in range(len(doc)):\n",
    "        page = doc[page_num]\n",
    "        text = page.get_text()\n",
    "        \n",
    "        # Extract tables\n",
    "        tables = extract_tables(page)\n",
    "        table_filenames = []\n",
    "        for i, table in enumerate(tables):\n",
    "            csv_filename = os.path.join(pdf_output_folder, f'table_page_{page_num + 1}_{i + 1}.csv')\n",
    "            relative_csv_filename = os.path.relpath(csv_filename, output_folder)\n",
    "            table_filenames.append(relative_csv_filename)\n",
    "            save_table(table, csv_filename)\n",
    "\n",
    "        # Extract images\n",
    "        image_filenames = []\n",
    "        images = page.get_images(full=True)\n",
    "        for img_index, img in enumerate(images):\n",
    "            xref = img[0]\n",
    "            base_image = doc.extract_image(xref)\n",
    "            image_bytes = base_image[\"image\"]\n",
    "            image_ext = base_image[\"ext\"]\n",
    "            image_filename = os.path.join(images_folder, f'image_page_{page_num + 1}_{img_index + 1}.{image_ext}')\n",
    "            relative_image_filename = os.path.relpath(image_filename, output_folder)\n",
    "            with open(image_filename, \"wb\") as image_file:\n",
    "                image_file.write(image_bytes)\n",
    "            image_filenames.append(relative_image_filename)\n",
    "\n",
    "        page_data = {\n",
    "            \"page_number\": page_num + 1,\n",
    "            \"text\": text,\n",
    "            \"images\": image_filenames,\n",
    "            \"tables\": table_filenames\n",
    "        }\n",
    "        all_pages_data.append(page_data)\n",
    "\n",
    "    pdf_data = {\n",
    "        \"pdf_name\": pdf_name,\n",
    "        \"pages\": all_pages_data\n",
    "    }\n",
    "\n",
    "    mongo_collection.insert_one(pdf_data)\n",
    "    doc.close()\n",
    "\n",
    "def process_pdfs_in_folder(pdf_folder, output_folder, mongo_collection):\n",
    "    for filename in os.listdir(pdf_folder):\n",
    "        if filename.endswith(\".pdf\"):\n",
    "            pdf_path = os.path.join(pdf_folder, filename)\n",
    "            print(f\"Processing {filename}...\")\n",
    "            extract_data_from_pdf(pdf_path, output_folder, mongo_collection)\n",
    "\n",
    "if __name__ == \"__main__\":\n",
    "    client = connect_mongo()\n",
    "    if client:\n",
    "        db = client[\"pdf_database\"]\n",
    "        collection = db[\"pdf_collection_one_last_Test\"]\n",
    "\n",
    "        pdf_folder = \"../extracted\"\n",
    "        output_folder = \"./extracted_data_one_last_test/\"\n",
    "\n",
    "        process_pdfs_in_folder(pdf_folder, output_folder, collection)"
   ]
  }
 ],
 "metadata": {
  "kernelspec": {
   "display_name": "bigdata",
   "language": "python",
   "name": "python3"
  },
  "language_info": {
   "codemirror_mode": {
    "name": "ipython",
    "version": 3
   },
   "file_extension": ".py",
   "mimetype": "text/x-python",
   "name": "python",
   "nbconvert_exporter": "python",
   "pygments_lexer": "ipython3",
   "version": "3.9.10"
  }
 },
 "nbformat": 4,
 "nbformat_minor": 2
}
